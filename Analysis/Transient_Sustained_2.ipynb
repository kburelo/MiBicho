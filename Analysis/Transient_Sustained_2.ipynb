{
 "cells": [
  {
   "cell_type": "code",
   "execution_count": 17,
   "metadata": {
    "collapsed": true,
    "deletable": true,
    "editable": true
   },
   "outputs": [],
   "source": [
    "import socket\n",
    "import struct\n",
    "import numpy as np\n",
    "import time\n",
    "import matplotlib\n",
    "from matplotlib import pyplot as plt\n",
    "import glob, os"
   ]
  },
  {
   "cell_type": "code",
   "execution_count": 18,
   "metadata": {
    "collapsed": false,
    "deletable": true,
    "editable": true
   },
   "outputs": [
    {
     "name": "stdout",
     "output_type": "stream",
     "text": [
      "[<open file 'w2temp0.05s-2017_05_09_21_15_59.aedat', mode 'rb' at 0x1036dcdb0>, <open file 'w2temp0.2s-2017_05_09_21_15_53.aedat', mode 'rb' at 0x1036dcd20>, <open file 'w2temp0.5s-2017_05_09_21_15_45.aedat', mode 'rb' at 0x1036dce40>, <open file 'w2temp1s-2017_05_09_21_15_30.aedat', mode 'rb' at 0x1036dced0>, <open file 'w2temp3s-2017_05_09_21_14_55.aedat', mode 'rb' at 0x10373a030>, <open file 'w2temp5s-2017_05_09_21_13_58.aedat', mode 'rb' at 0x10373a0c0>]\n",
      "[]\n"
     ]
    }
   ],
   "source": [
    "computer_path = '/Users/HHG'\n",
    "data_path = computer_path + '/FilesRepositories'\n",
    "plot_path = data_path + '/Project/Transient_Sustained/'\n",
    "\n",
    "tdrDir = '/Users/HHG/FilesRepositories/AEDAT/Transient_Sustained3/'\n",
    "dataDir = tdrDir\n",
    "os.chdir(dataDir)\n",
    "\n",
    "tempdatalist = glob.glob(\"w2t*\")\n",
    "tempdataread = []\n",
    "\n",
    "spatialdatalist = glob.glob(\"w2s*\")\n",
    "spatialdataread = []\n",
    "\n",
    "for i in tempdatalist:\n",
    "    tempdataread.append(open(i,\"rb\"))\n",
    "    debug = False\n",
    "\n",
    "print tempdataread\n",
    "print spatialdataread"
   ]
  },
  {
   "cell_type": "code",
   "execution_count": 19,
   "metadata": {
    "collapsed": true,
    "deletable": true,
    "editable": true
   },
   "outputs": [],
   "source": [
    "def read_events(file):\n",
    "    \"\"\" A simple function that read dynap-se events from cAER aedat 3.0 file format\"\"\"\n",
    "    \n",
    "    # raise Exception at end of file\n",
    "    data = file.read(28)\n",
    "    if(len(data) <= 0):\n",
    "        print(\"read all data\\n\")\n",
    "        raise NameError('END OF DATA')\n",
    "\n",
    "\n",
    "    # read header\n",
    "    eventtype = struct.unpack('H', data[0:2])[0]\n",
    "    eventsource = struct.unpack('H', data[2:4])[0]\n",
    "    eventsize = struct.unpack('I', data[4:8])[0]\n",
    "    eventoffset = struct.unpack('I', data[8:12])[0]\n",
    "    eventtsoverflow = struct.unpack('I', data[12:16])[0]\n",
    "    eventcapacity = struct.unpack('I', data[16:20])[0]\n",
    "    eventnumber = struct.unpack('I', data[20:24])[0]\n",
    "    eventvalid = struct.unpack('I', data[24:28])[0]\n",
    "    next_read = eventcapacity * eventsize  # we now read the full packet\n",
    "    data = file.read(next_read)    \n",
    "    counter = 0  # eventnumber[0]\n",
    "    #spike events\n",
    "    core_id_tot = []\n",
    "    chip_id_tot = []\n",
    "    neuron_id_tot = []\n",
    "    ts_tot =[]\n",
    "    #special events\n",
    "    spec_type_tot =[]\n",
    "    spec_ts_tot = []\n",
    "\n",
    "    if(eventtype == 0):\n",
    "        spec_type_tot =[]\n",
    "        spec_ts_tot = []\n",
    "        while(data[counter:counter + eventsize]):  # loop over all event packets\n",
    "            special_data = struct.unpack('I', data[counter:counter + 4])[0]\n",
    "            timestamp = struct.unpack('I', data[counter + 4:counter + 8])[0]\n",
    "            spec_type = (special_data >> 1) & 0x0000007F\n",
    "            spec_type_tot.append(spec_type)\n",
    "            spec_ts_tot.append(timestamp)\n",
    "            if(spec_type == 6 or spec_type == 7 or spec_type == 9 or spec_type == 10):\n",
    "                print (timestamp, spec_type)\n",
    "            counter = counter + eventsize        \n",
    "    elif(eventtype == 12):\n",
    "        while(data[counter:counter + eventsize]):  # loop over all event packets\n",
    "            aer_data = struct.unpack('I', data[counter:counter + 4])[0]\n",
    "            timestamp = struct.unpack('I', data[counter + 4:counter + 8])[0]\n",
    "            core_id = (aer_data >> 1) & 0x0000001F\n",
    "            chip_id = (aer_data >> 6) & 0x0000003F\n",
    "            neuron_id = (aer_data >> 12) & 0x000FFFFF\n",
    "            core_id_tot.append(core_id)\n",
    "            chip_id_tot.append(chip_id)\n",
    "            neuron_id_tot.append(neuron_id)\n",
    "            ts_tot.append(timestamp)\n",
    "            counter = counter + eventsize\n",
    "            if(debug):          \n",
    "                print(\"chip id \"+str(chip_id)+'\\n')\n",
    "                print(\"core_id \"+str(core_id)+'\\n')\n",
    "                print(\"neuron_id \"+str(neuron_id)+'\\n')\n",
    "                print(\"timestamp \"+str(timestamp)+'\\n')\n",
    "                print(\"####\\n\")\n",
    "\n",
    "\n",
    "    return core_id_tot, chip_id_tot, neuron_id_tot, ts_tot, spec_type_tot, spec_ts_tot"
   ]
  },
  {
   "cell_type": "code",
   "execution_count": 20,
   "metadata": {
    "collapsed": true,
    "deletable": true,
    "editable": true
   },
   "outputs": [],
   "source": [
    "def skip_header(file):\n",
    "    ''' This function skip the standard header of the recording file '''\n",
    "    line = file.readline()\n",
    "    while line.startswith(\"#\"):\n",
    "        if ( line == '#!END-HEADER\\r\\n'):\n",
    "            break\n",
    "        else:\n",
    "            line = file.readline()"
   ]
  },
  {
   "cell_type": "code",
   "execution_count": 21,
   "metadata": {
    "collapsed": false,
    "deletable": true,
    "editable": true
   },
   "outputs": [
    {
     "name": "stdout",
     "output_type": "stream",
     "text": [
      "read all data\n",
      "\n",
      "read all data\n",
      "\n",
      "read all data\n",
      "\n",
      "read all data\n",
      "\n",
      "read all data\n",
      "\n",
      "read all data\n",
      "\n"
     ]
    }
   ],
   "source": [
    "done_reading_temp = [False] * len(tempdataread)\n",
    "\n",
    "for data in tempdataread:\n",
    "    skip_header(data)\n",
    "    \n",
    "times_t = []\n",
    "neuron_17t = []\n",
    "neuron_65t = []\n",
    "\n",
    "for i in range(len(tempdataread)):\n",
    "    chip_id_tot = []\n",
    "    core_id_tot = []\n",
    "    neuron_id_tot = []\n",
    "    ts_tot  = []\n",
    "    spec_type_tot = []\n",
    "    spec_ts_tot = []\n",
    "        \n",
    "    done_reading = done_reading_temp\n",
    "    datareadlist = tempdataread\n",
    "   \n",
    "    while(done_reading[i] == False):\n",
    "        try:\n",
    "            core_id, chip_id, neuron_id, ts, spec_type, spec_ts = read_events(datareadlist[i])\n",
    "            core_id_tot.extend(np.array(core_id))\n",
    "            chip_id_tot.extend(np.array(chip_id))\n",
    "            neuron_id_tot.extend(np.array(neuron_id))\n",
    "            ts_tot.extend(np.array(ts))\n",
    "            spec_type_tot.extend(np.array(spec_type))\n",
    "            spec_ts_tot.extend(np.array(spec_ts))\n",
    "                    \n",
    "        except NameError:\n",
    "            datareadlist[i].close()\n",
    "            done_reading[i] = True\n",
    "    neuron_id_d = []\n",
    "    ts_id_d = []\n",
    "    for chip, core, neur, ts in zip(chip_id_tot, core_id_tot, neuron_id_tot, ts_tot):\n",
    "        if chip == 1 and core == 2:\n",
    "            neuron_id_d.append(neur)\n",
    "            ts_id_d.append(ts)\n",
    " \n",
    "    times_t.append(ts_tot[-1]-ts_tot[0])\n",
    "    neuron_17t.append(neuron_id_d.count(17))\n",
    "    neuron_65t.append(neuron_id_d.count(65))\n"
   ]
  },
  {
   "cell_type": "code",
   "execution_count": 22,
   "metadata": {
    "collapsed": false,
    "deletable": true,
    "editable": true
   },
   "outputs": [
    {
     "name": "stdout",
     "output_type": "stream",
     "text": [
      "[1.4881191542959322, 4.7151527129908155, 7.4534291115537359, 10.737783616275149, 6.7991989967378546, 6.6856379942531259]\n",
      "[1.4881191542959322, 4.5186880166161982, 6.9565338374501531, 8.6924914988894066, 10.947862791357563, 11.255342687133586]\n"
     ]
    }
   ],
   "source": [
    "activity_65t = []\n",
    "activity_17t = []\n",
    "times_tsec = [i * (10**-6) for i in times_t]\n",
    "\n",
    "for i,count in enumerate(neuron_17t):\n",
    "    activity_17t.append(count/times_tsec[i])\n",
    "print activity_17t\n",
    "\n",
    "for i,count in enumerate(neuron_65t):\n",
    "    activity_65t.append(count/times_tsec[i])\n",
    "print activity_65t\n"
   ]
  },
  {
   "cell_type": "code",
   "execution_count": 23,
   "metadata": {
    "collapsed": false,
    "deletable": true,
    "editable": true
   },
   "outputs": [
    {
     "data": {
      "text/plain": [
       "<matplotlib.figure.Figure at 0x1023c4ad0>"
      ]
     },
     "metadata": {},
     "output_type": "display_data"
    },
    {
     "data": {
      "image/png": "[encoded data removed]",
      "text/plain": [
       "<matplotlib.figure.Figure at 0x1023c4950>"
      ]
     },
     "metadata": {},
     "output_type": "display_data"
    },
    {
     "data": {
      "image/png": "[encoded data removed]",
      "text/plain": [
       "<matplotlib.figure.Figure at 0x10d6ecf90>"
      ]
     },
     "metadata": {},
     "output_type": "display_data"
    },
    {
     "data": {
      "image/png": "[encoded data removed]",
      "text/plain": [
       "<matplotlib.figure.Figure at 0x114502490>"
      ]
     },
     "metadata": {},
     "output_type": "display_data"
    }
   ],
   "source": [
    "#Temporal plots\n",
    "freq = [20,5,2,1,0.4,0.2]\n",
    "plt.clf()\n",
    "fig1 = plt.figure()\n",
    "plt.plot(np.log(freq), np.log(activity_17t), 'b-')\n",
    "#plt.plot(np.log(freq),(activity_154), 'kx')\n",
    "plt.ylabel('Activity neuron 7')#17    \n",
    "plt.xlabel('Temporal Frequency (Hz)')\n",
    "#fig4.savefig(plot_path + 'Activity17vsTemporal_tran', format='png', dpi=200)\n",
    "\n",
    "fig2 = plt.figure()\n",
    "plt.plot(np.log(freq), np.log(activity_65t), 'k-')\n",
    "plt.ylabel('Activity neuron 6')#65    \n",
    "plt.xlabel('Temporal Frequency (Hz)')\n",
    "#fig5.savefig(plot_path + 'Activity17vsTemporal_sust', format='png', dpi=200)\n",
    "\n",
    "fig3 = plt.figure()\n",
    "plt.plot(np.log(freq),np.log(activity_17t), 'b-')\n",
    "plt.plot(np.log(freq),np.log(activity_65t), 'k-')\n",
    "plt.ylabel('Activity')    \n",
    "plt.xlabel('Temporal Frequency (Hz)')\n",
    "plt.legend(['transient', 'sustained'], loc='upper right')\n",
    "#fig6.savefig(plot_path + 'TransSust_temp', format='png', dpi=200)\n",
    "\n",
    "plt.show()"
   ]
  },
  {
   "cell_type": "code",
   "execution_count": null,
   "metadata": {
    "collapsed": true,
    "deletable": true,
    "editable": true
   },
   "outputs": [],
   "source": []
  },
  {
   "cell_type": "code",
   "execution_count": null,
   "metadata": {
    "collapsed": true,
    "deletable": true,
    "editable": true
   },
   "outputs": [],
   "source": []
  }
 ],
 "metadata": {
  "kernelspec": {
   "display_name": "Python 2",
   "language": "python",
   "name": "python2"
  },
  "language_info": {
   "codemirror_mode": {
    "name": "ipython",
    "version": 2
   },
   "file_extension": ".py",
   "mimetype": "text/x-python",
   "name": "python",
   "nbconvert_exporter": "python",
   "pygments_lexer": "ipython2",
   "version": "2.7.13"
  }
 },
 "nbformat": 4,
 "nbformat_minor": 2
}
