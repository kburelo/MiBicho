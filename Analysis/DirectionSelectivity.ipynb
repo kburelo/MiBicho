{
 "cells": [
  {
   "cell_type": "code",
   "execution_count": 1,
   "metadata": {
    "collapsed": true,
    "deletable": true,
    "editable": true
   },
   "outputs": [],
   "source": [
    "import socket\n",
    "import struct\n",
    "import numpy as np\n",
    "import time\n",
    "import matplotlib\n",
    "from matplotlib import pyplot as plt\n",
    "import glob, os"
   ]
  },
  {
   "cell_type": "code",
   "execution_count": 2,
   "metadata": {
    "collapsed": false,
    "deletable": true,
    "editable": true
   },
   "outputs": [],
   "source": [
    "computer_path = '/Users/HHG'\n",
    "data_path = computer_path + '/FilesRepositories'\n",
    "plot_path = data_path + '/Project/DirectionSelectivity/'\n",
    "\n",
    "tdrDir = '/Users/HHG/FilesRepositories/AEDAT/MovingBar/'\n",
    "dataDir = tdrDir\n",
    "os.chdir(dataDir)\n",
    "\n",
    "dataList = glob.glob(\"*.aedat\")\n",
    "dataListRead = []\n",
    "for i in dataList:\n",
    "    dataListRead.append(open(i,\"rb\"))\n",
    "    debug = False\n",
    "    \n",
    "#print dataListRead"
   ]
  },
  {
   "cell_type": "code",
   "execution_count": 3,
   "metadata": {
    "collapsed": true,
    "deletable": true,
    "editable": true
   },
   "outputs": [],
   "source": [
    "def read_events(file):\n",
    "    \"\"\" A simple function that read dynap-se events from cAER aedat 3.0 file format\"\"\"\n",
    "    \n",
    "    # raise Exception at end of file\n",
    "    data = file.read(28)\n",
    "    if(len(data) <= 0):\n",
    "        print(\"read all data\\n\")\n",
    "        raise NameError('END OF DATA')\n",
    "\n",
    "\n",
    "    # read header\n",
    "    eventtype = struct.unpack('H', data[0:2])[0]\n",
    "    eventsource = struct.unpack('H', data[2:4])[0]\n",
    "    eventsize = struct.unpack('I', data[4:8])[0]\n",
    "    eventoffset = struct.unpack('I', data[8:12])[0]\n",
    "    eventtsoverflow = struct.unpack('I', data[12:16])[0]\n",
    "    eventcapacity = struct.unpack('I', data[16:20])[0]\n",
    "    eventnumber = struct.unpack('I', data[20:24])[0]\n",
    "    eventvalid = struct.unpack('I', data[24:28])[0]\n",
    "    next_read = eventcapacity * eventsize  # we now read the full packet\n",
    "    data = file.read(next_read)    \n",
    "    counter = 0  # eventnumber[0]\n",
    "    #spike events\n",
    "    core_id_tot = []\n",
    "    chip_id_tot = []\n",
    "    neuron_id_tot = []\n",
    "    ts_tot =[]\n",
    "    #special events\n",
    "    spec_type_tot =[]\n",
    "    spec_ts_tot = []\n",
    "\n",
    "    if(eventtype == 0):\n",
    "        spec_type_tot =[]\n",
    "        spec_ts_tot = []\n",
    "        while(data[counter:counter + eventsize]):  # loop over all event packets\n",
    "            special_data = struct.unpack('I', data[counter:counter + 4])[0]\n",
    "            timestamp = struct.unpack('I', data[counter + 4:counter + 8])[0]\n",
    "            spec_type = (special_data >> 1) & 0x0000007F\n",
    "            spec_type_tot.append(spec_type)\n",
    "            spec_ts_tot.append(timestamp)\n",
    "            if(spec_type == 6 or spec_type == 7 or spec_type == 9 or spec_type == 10):\n",
    "                print (timestamp, spec_type)\n",
    "            counter = counter + eventsize        \n",
    "    elif(eventtype == 12):\n",
    "        while(data[counter:counter + eventsize]):  # loop over all event packets\n",
    "            aer_data = struct.unpack('I', data[counter:counter + 4])[0]\n",
    "            timestamp = struct.unpack('I', data[counter + 4:counter + 8])[0]\n",
    "            core_id = (aer_data >> 1) & 0x0000001F\n",
    "            chip_id = (aer_data >> 6) & 0x0000003F\n",
    "            neuron_id = (aer_data >> 12) & 0x000FFFFF\n",
    "            core_id_tot.append(core_id)\n",
    "            chip_id_tot.append(chip_id)\n",
    "            neuron_id_tot.append(neuron_id)\n",
    "            ts_tot.append(timestamp)\n",
    "            counter = counter + eventsize\n",
    "            if(debug):          \n",
    "                print(\"chip id \"+str(chip_id)+'\\n')\n",
    "                print(\"core_id \"+str(core_id)+'\\n')\n",
    "                print(\"neuron_id \"+str(neuron_id)+'\\n')\n",
    "                print(\"timestamp \"+str(timestamp)+'\\n')\n",
    "                print(\"####\\n\")\n",
    "\n",
    "\n",
    "    return core_id_tot, chip_id_tot, neuron_id_tot, ts_tot, spec_type_tot, spec_ts_tot"
   ]
  },
  {
   "cell_type": "code",
   "execution_count": 4,
   "metadata": {
    "collapsed": true,
    "deletable": true,
    "editable": true
   },
   "outputs": [],
   "source": [
    "def skip_header(file):\n",
    "    ''' This function skip the standard header of the recording file '''\n",
    "    line = file.readline()\n",
    "    while line.startswith(\"#\"):\n",
    "        if ( line == '#!END-HEADER\\r\\n'):\n",
    "            break\n",
    "        else:\n",
    "            line = file.readline()"
   ]
  },
  {
   "cell_type": "code",
   "execution_count": 5,
   "metadata": {
    "collapsed": false,
    "deletable": true,
    "editable": true
   },
   "outputs": [
    {
     "name": "stdout",
     "output_type": "stream",
     "text": [
      "read all data\n",
      "\n",
      "read all data\n",
      "\n",
      "read all data\n",
      "\n",
      "read all data\n",
      "\n",
      "read all data\n",
      "\n",
      "read all data\n",
      "\n"
     ]
    }
   ],
   "source": [
    "done_reading = [False,False,False,False,False,False]\n",
    "\n",
    "for data in dataListRead:\n",
    "    skip_header(data)\n",
    "    \n",
    "datareadlist = dataListRead\n",
    "spikes_left_1s = []\n",
    "spikes_right_1s = []\n",
    "spikes_left_3s = []\n",
    "spikes_right_3s = []\n",
    "spikes_left_5s = []\n",
    "spikes_right_5s = []\n",
    "times = []\n",
    "neuron_17 = []\n",
    "\n",
    "for i in range(len(dataListRead)):\n",
    "    chip_id_tot = []\n",
    "    core_id_tot = []\n",
    "    neuron_id_tot = []\n",
    "    ts_tot  = []\n",
    "    spec_type_tot = []\n",
    "    spec_ts_tot = []\n",
    "    while(done_reading[i] == False):\n",
    "        try:\n",
    "            core_id, chip_id, neuron_id, ts, spec_type, spec_ts = read_events(dataListRead[i])\n",
    "            core_id_tot.extend(np.array(core_id))\n",
    "            chip_id_tot.extend(np.array(chip_id))\n",
    "            neuron_id_tot.extend(np.array(neuron_id))\n",
    "            ts_tot.extend(np.array(ts))\n",
    "            spec_type_tot.extend(np.array(spec_type))\n",
    "            spec_ts_tot.extend(np.array(spec_ts))\n",
    "                \n",
    "        except NameError:\n",
    "                dataListRead[i].close()\n",
    "                done_reading[i] = True\n",
    "    neuron_id_d = []\n",
    "    ts_id_d = []\n",
    "    for chip, core, neur, ts in zip(chip_id_tot, core_id_tot, neuron_id_tot, ts_tot):\n",
    "        if chip == 1 and core == 2:\n",
    "            neuron_id_d.append(neur)\n",
    "            ts_id_d.append(ts)\n",
    "    times.append(ts_tot[-1]-ts_tot[0])\n",
    "    neuron_17.append(neuron_id_d.count(17))\n",
    "    spikes = np.array(neuron_id_d)\n",
    "    indx_spikes = np.where(np.transpose(spikes)==17)[0]\n",
    "    if (i == 0):\n",
    "        for ind in indx_spikes:\n",
    "            spikes_left_1s.append(ts_id_d[ind])\n",
    "    elif (i == 1):\n",
    "        for ind in indx_spikes:\n",
    "            spikes_right_1s.append(ts_id_d[ind])\n",
    "    elif (i == 2):\n",
    "        for ind in indx_spikes:\n",
    "            spikes_left_3s.append(ts_id_d[ind])\n",
    "    elif (i == 3):\n",
    "        for ind in indx_spikes:\n",
    "            spikes_right_3s.append(ts_id_d[ind])\n",
    "    elif (i == 4):\n",
    "        for ind in indx_spikes:\n",
    "            spikes_left_5s.append(ts_id_d[ind])\n",
    "    elif (i == 5):\n",
    "        for ind in indx_spikes:\n",
    "            spikes_right_5s.append(ts_id_d[ind])"
   ]
  },
  {
   "cell_type": "code",
   "execution_count": 6,
   "metadata": {
    "collapsed": false,
    "deletable": true,
    "editable": true
   },
   "outputs": [
    {
     "name": "stdout",
     "output_type": "stream",
     "text": [
      "[6, 38, 39, 115, 87, 193]\n"
     ]
    }
   ],
   "source": [
    "activity_17 = []\n",
    "times_sec = [i * (10**-6) for i in times]\n",
    "\n",
    "for i,count in enumerate(neuron_17):\n",
    "    activity_17.append(count/times_sec[i])\n",
    "print neuron_17\n",
    "#print dataListRead\n"
   ]
  },
  {
   "cell_type": "code",
   "execution_count": 8,
   "metadata": {
    "collapsed": false,
    "deletable": true,
    "editable": true
   },
   "outputs": [
    {
     "data": {
      "text/plain": [
       "<matplotlib.figure.Figure at 0x107f87d10>"
      ]
     },
     "metadata": {},
     "output_type": "display_data"
    },
    {
     "data": {
      "text/plain": [
       "<matplotlib.figure.Figure at 0x107f87d50>"
      ]
     },
     "metadata": {},
     "output_type": "display_data"
    },
    {
     "data": {
      "image/png": "[encoded data removed]",
      "text/plain": [
       "<matplotlib.figure.Figure at 0x1135a2a10>"
      ]
     },
     "metadata": {},
     "output_type": "display_data"
    },
    {
     "data": {
      "image/png": "[encoded data removed]",
      "text/plain": [
       "<matplotlib.figure.Figure at 0x1226154d0>"
      ]
     },
     "metadata": {},
     "output_type": "display_data"
    },
    {
     "data": {
      "image/png": "[encoded data removed]",
      "text/plain": [
       "<matplotlib.figure.Figure at 0x113726c50>"
      ]
     },
     "metadata": {},
     "output_type": "display_data"
    },
    {
     "data": {
      "image/png": "[encoded data removed]",
      "text/plain": [
       "<matplotlib.figure.Figure at 0x1225ba7d0>"
      ]
     },
     "metadata": {},
     "output_type": "display_data"
    },
    {
     "data": {
      "image/png": "[encoded data removed]",
      "text/plain": [
       "<matplotlib.figure.Figure at 0x12262fe90>"
      ]
     },
     "metadata": {},
     "output_type": "display_data"
    },
    {
     "data": {
      "image/png": "[encoded data removed]",
      "text/plain": [
       "<matplotlib.figure.Figure at 0x121c28850>"
      ]
     },
     "metadata": {},
     "output_type": "display_data"
    }
   ],
   "source": [
    "val = 0.\n",
    "\n",
    "plt.clf()\n",
    "fig1 = plt.figure()\n",
    "left_1s = np.array(spikes_left_1s-min(spikes_left_1s))*(10**-6)\n",
    "plt.plot(left_1s, np.zeros_like(left_1s) + val, '|k', mew=2, ms=20)\n",
    "plt.title('Bar moving left changing position every 1 second')\n",
    "plt.xlabel('time (s)')\n",
    "fig1.savefig(plot_path + 'Left_1second.png', format='png', dpi=200)\n",
    "\n",
    "fig2 = plt.figure()\n",
    "right_1s = np.array(spikes_right_1s-min(spikes_right_1s))*(10**-6)\n",
    "plt.plot(right_1s, np.zeros_like(right_1s) + val, '|k', mew=2, ms=20)\n",
    "plt.title('Bar moving right changing position every 1 second')\n",
    "plt.xlabel('time (s)')\n",
    "fig2.savefig(plot_path + 'Right_1second.png', format='png', dpi=200)\n",
    "\n",
    "fig3 = plt.figure()\n",
    "left_3s = np.array(spikes_left_3s-min(spikes_left_3s))*(10**-6)\n",
    "plt.plot(left_3s, np.zeros_like(left_3s) + val, '|k', mew=2, ms=20)\n",
    "plt.title('Bar moving left changing position every 3 seconds')\n",
    "plt.xlabel('time (s)')\n",
    "fig3.savefig(plot_path + 'Left_3second.png', format='png', dpi=200)\n",
    "\n",
    "fig4 = plt.figure()\n",
    "right_3s = np.array(spikes_right_3s-min(spikes_right_3s))*(10**-6)\n",
    "plt.plot(right_3s, np.zeros_like(right_3s) + val, '|k', mew=2, ms=20)\n",
    "plt.title('Bar moving right changing position every 3 seconds')\n",
    "plt.xlabel('time (s)')\n",
    "fig4.savefig(plot_path + 'Right_3second.png', format='png', dpi=200)\n",
    "\n",
    "fig5 = plt.figure()\n",
    "left_5s = np.array(spikes_left_5s-min(spikes_left_5s))*(10**-6)\n",
    "plt.plot(left_5s, np.zeros_like(left_5s) + val, '|k', mew=2, ms=20)\n",
    "plt.title('Bar moving left changing position every 5 seconds')\n",
    "plt.xlabel('time (s)')\n",
    "fig5.savefig(plot_path + 'Left_5second.png', format='png', dpi=200)\n",
    "\n",
    "fig6 = plt.figure()\n",
    "right_5s = np.array(spikes_right_5s-min(spikes_right_5s))*(10**-6)\n",
    "plt.plot(right_5s, np.zeros_like(right_5s) + val, '|k', mew=2, ms=20)\n",
    "plt.title('Bar moving left changing position every 5 seconds')\n",
    "plt.xlabel('time (s)')\n",
    "fig6.savefig(plot_path + 'Right_5second.png', format='png', dpi=200)\n",
    "\n",
    "plt.show()"
   ]
  },
  {
   "cell_type": "code",
   "execution_count": null,
   "metadata": {
    "collapsed": true,
    "deletable": true,
    "editable": true
   },
   "outputs": [],
   "source": []
  }
 ],
 "metadata": {
  "kernelspec": {
   "display_name": "Python 2",
   "language": "python",
   "name": "python2"
  },
  "language_info": {
   "codemirror_mode": {
    "name": "ipython",
    "version": 2
   },
   "file_extension": ".py",
   "mimetype": "text/x-python",
   "name": "python",
   "nbconvert_exporter": "python",
   "pygments_lexer": "ipython2",
   "version": "2.7.13"
  }
 },
 "nbformat": 4,
 "nbformat_minor": 2
}
