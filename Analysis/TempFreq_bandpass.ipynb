{
 "cells": [
  {
   "cell_type": "code",
   "execution_count": 2,
   "metadata": {
    "collapsed": true,
    "deletable": true,
    "editable": true
   },
   "outputs": [],
   "source": [
    "import socket\n",
    "import struct\n",
    "import numpy as np\n",
    "import time\n",
    "import matplotlib\n",
    "from matplotlib import pyplot as plt\n",
    "import glob, os"
   ]
  },
  {
   "cell_type": "code",
   "execution_count": 3,
   "metadata": {
    "collapsed": false,
    "deletable": true,
    "editable": true
   },
   "outputs": [],
   "source": [
    "tdrDir = '/Users/HHG/FilesRepositories/AEDAT/TempFreq_bandpass/'\n",
    "dataDir = tdrDir\n",
    "os.chdir(dataDir)\n",
    "\n",
    "datalist = glob.glob(\"N17in*\")\n",
    "dataread = []\n",
    "\n",
    "\n",
    "for i in datalist:\n",
    "    dataread.append(open(i,\"rb\"))\n",
    "    debug = False\n",
    "\n",
    "#print dataread"
   ]
  },
  {
   "cell_type": "code",
   "execution_count": 4,
   "metadata": {
    "collapsed": true,
    "deletable": true,
    "editable": true
   },
   "outputs": [],
   "source": [
    "def read_events(file):\n",
    "    \"\"\" A simple function that read dynap-se events from cAER aedat 3.0 file format\"\"\"\n",
    "    \n",
    "    # raise Exception at end of file\n",
    "    data = file.read(28)\n",
    "    if(len(data) <= 0):\n",
    "        print(\"read all data\\n\")\n",
    "        raise NameError('END OF DATA')\n",
    "\n",
    "\n",
    "    # read header\n",
    "    eventtype = struct.unpack('H', data[0:2])[0]\n",
    "    eventsource = struct.unpack('H', data[2:4])[0]\n",
    "    eventsize = struct.unpack('I', data[4:8])[0]\n",
    "    eventoffset = struct.unpack('I', data[8:12])[0]\n",
    "    eventtsoverflow = struct.unpack('I', data[12:16])[0]\n",
    "    eventcapacity = struct.unpack('I', data[16:20])[0]\n",
    "    eventnumber = struct.unpack('I', data[20:24])[0]\n",
    "    eventvalid = struct.unpack('I', data[24:28])[0]\n",
    "    next_read = eventcapacity * eventsize  # we now read the full packet\n",
    "    data = file.read(next_read)    \n",
    "    counter = 0  # eventnumber[0]\n",
    "    #spike events\n",
    "    core_id_tot = []\n",
    "    chip_id_tot = []\n",
    "    neuron_id_tot = []\n",
    "    ts_tot =[]\n",
    "    #special events\n",
    "    spec_type_tot =[]\n",
    "    spec_ts_tot = []\n",
    "\n",
    "    if(eventtype == 0):\n",
    "        spec_type_tot =[]\n",
    "        spec_ts_tot = []\n",
    "        while(data[counter:counter + eventsize]):  # loop over all event packets\n",
    "            special_data = struct.unpack('I', data[counter:counter + 4])[0]\n",
    "            timestamp = struct.unpack('I', data[counter + 4:counter + 8])[0]\n",
    "            spec_type = (special_data >> 1) & 0x0000007F\n",
    "            spec_type_tot.append(spec_type)\n",
    "            spec_ts_tot.append(timestamp)\n",
    "            if(spec_type == 6 or spec_type == 7 or spec_type == 9 or spec_type == 10):\n",
    "                print (timestamp, spec_type)\n",
    "            counter = counter + eventsize        \n",
    "    elif(eventtype == 12):\n",
    "        while(data[counter:counter + eventsize]):  # loop over all event packets\n",
    "            aer_data = struct.unpack('I', data[counter:counter + 4])[0]\n",
    "            timestamp = struct.unpack('I', data[counter + 4:counter + 8])[0]\n",
    "            core_id = (aer_data >> 1) & 0x0000001F\n",
    "            chip_id = (aer_data >> 6) & 0x0000003F\n",
    "            neuron_id = (aer_data >> 12) & 0x000FFFFF\n",
    "            core_id_tot.append(core_id)\n",
    "            chip_id_tot.append(chip_id)\n",
    "            neuron_id_tot.append(neuron_id)\n",
    "            ts_tot.append(timestamp)\n",
    "            counter = counter + eventsize\n",
    "            if(debug):          \n",
    "                print(\"chip id \"+str(chip_id)+'\\n')\n",
    "                print(\"core_id \"+str(core_id)+'\\n')\n",
    "                print(\"neuron_id \"+str(neuron_id)+'\\n')\n",
    "                print(\"timestamp \"+str(timestamp)+'\\n')\n",
    "                print(\"####\\n\")\n",
    "\n",
    "\n",
    "    return core_id_tot, chip_id_tot, neuron_id_tot, ts_tot, spec_type_tot, spec_ts_tot"
   ]
  },
  {
   "cell_type": "code",
   "execution_count": 5,
   "metadata": {
    "collapsed": true,
    "deletable": true,
    "editable": true
   },
   "outputs": [],
   "source": [
    "def skip_header(file):\n",
    "    ''' This function skip the standard header of the recording file '''\n",
    "    line = file.readline()\n",
    "    while line.startswith(\"#\"):\n",
    "        if ( line == '#!END-HEADER\\r\\n'):\n",
    "            break\n",
    "        else:\n",
    "            line = file.readline()"
   ]
  },
  {
   "cell_type": "code",
   "execution_count": 6,
   "metadata": {
    "collapsed": false,
    "deletable": true,
    "editable": true
   },
   "outputs": [
    {
     "name": "stdout",
     "output_type": "stream",
     "text": [
      "read all data\n",
      "\n",
      "read all data\n",
      "\n",
      "read all data\n",
      "\n",
      "read all data\n",
      "\n",
      "read all data\n",
      "\n"
     ]
    }
   ],
   "source": [
    "done_reading = [False,False,False,False,False]\n",
    "\n",
    "for data in dataread:\n",
    "    skip_header(data)\n",
    "    \n",
    "times_17 = []\n",
    "times_154 = []\n",
    "neuron_17 = []\n",
    "neuron_154 = []\n",
    "\n",
    "for i in range(len(dataread)):\n",
    "    chip_id_tot = []\n",
    "    core_id_tot = []\n",
    "    neuron_id_tot = []\n",
    "    ts_tot  = []\n",
    "    spec_type_tot = []\n",
    "    spec_ts_tot = []\n",
    "    while(done_reading[i] == False):\n",
    "        try:\n",
    "            core_id, chip_id, neuron_id, ts, spec_type, spec_ts = read_events(dataread[i])\n",
    "            core_id_tot.extend(np.array(core_id))\n",
    "            chip_id_tot.extend(np.array(chip_id))\n",
    "            neuron_id_tot.extend(np.array(neuron_id))\n",
    "            ts_tot.extend(np.array(ts))\n",
    "            spec_type_tot.extend(np.array(spec_type))\n",
    "            spec_ts_tot.extend(np.array(spec_ts))\n",
    "                    \n",
    "        except NameError:\n",
    "            dataread[i].close()\n",
    "            done_reading[i] = True\n",
    "    neuron_id_d = []\n",
    "    ts_id_d = []\n",
    "    for chip, core, neur, ts in zip(chip_id_tot, core_id_tot, neuron_id_tot, ts_tot):\n",
    "        if chip == 1 and core == 2:\n",
    "            neuron_id_d.append(neur)\n",
    "            ts_id_d.append(ts)\n",
    "        if chip == 1 and core == 1:\n",
    "            neuron_id_d.append(neur)\n",
    "            ts_id_d.append(ts)\n",
    "    times_17.append(ts_tot[-1]-ts_tot[0])\n",
    "    neuron_17.append(neuron_id_d.count(17))\n",
    "    times_154.append(ts_tot[-1]-ts_tot[0])\n",
    "    neuron_154.append(neuron_id_d.count(154))\n",
    "        "
   ]
  },
  {
   "cell_type": "code",
   "execution_count": 7,
   "metadata": {
    "collapsed": false,
    "deletable": true,
    "editable": true
   },
   "outputs": [
    {
     "name": "stdout",
     "output_type": "stream",
     "text": [
      "[3.7300588390138576, 6.859258603195018, 8.8727524390796457, 1.9174916698787072, 1.3234522155754729]\n",
      "[0.0, 0.0, 0.0, 8.1348131449399705, 8.3112799138139692]\n"
     ]
    }
   ],
   "source": [
    "activity_17 = []\n",
    "activity_154 = []\n",
    "\n",
    "times_17sec = [i*(10**-6) for i in times_17]\n",
    "times_154sec = [i*(10**-6) for i in times_154]\n",
    "\n",
    "for i,count in enumerate(neuron_17):\n",
    "    activity_17.append(count/times_17sec[i])\n",
    "print activity_17\n",
    "\n",
    "for i,count in enumerate(neuron_154):\n",
    "    activity_154.append(count/times_154sec[i])\n",
    "print activity_154\n"
   ]
  },
  {
   "cell_type": "code",
   "execution_count": 8,
   "metadata": {
    "collapsed": false,
    "deletable": true,
    "editable": true
   },
   "outputs": [
    {
     "data": {
      "text/plain": [
       "<matplotlib.figure.Figure at 0x109f70e90>"
      ]
     },
     "metadata": {},
     "output_type": "display_data"
    },
    {
     "data": {
      "image/png": "[encoded data removed]",
      "text/plain": [
       "<matplotlib.figure.Figure at 0x109f70f50>"
      ]
     },
     "metadata": {},
     "output_type": "display_data"
    },
    {
     "data": {
      "image/png": "[encoded data removed]",
      "text/plain": [
       "<matplotlib.figure.Figure at 0x11cd47d50>"
      ]
     },
     "metadata": {},
     "output_type": "display_data"
    },
    {
     "data": {
      "image/png": "[encoded data removed]",
      "text/plain": [
       "<matplotlib.figure.Figure at 0x11cda9610>"
      ]
     },
     "metadata": {},
     "output_type": "display_data"
    }
   ],
   "source": [
    "freq = [5,2,1,0.4,0.2]\n",
    "plt.clf()\n",
    "fig1 = plt.figure()\n",
    "plt.plot(np.log(freq), np.log(activity_17), 'g-')\n",
    "#plt.plot(np.log(freq),(activity_154), 'kx')\n",
    "plt.ylabel('Activity')    \n",
    "plt.xlabel('Temporal Frequency (Hz)')\n",
    "\n",
    "#fig4 = plt.figure()\n",
    "#plt.plot(spatial)"
   ]
  },
  {
   "cell_type": "code",
   "execution_count": null,
   "metadata": {
    "collapsed": true,
    "deletable": true,
    "editable": true
   },
   "outputs": [],
   "source": []
  }
 ],
 "metadata": {
  "kernelspec": {
   "display_name": "Python 2",
   "language": "python",
   "name": "python2"
  },
  "language_info": {
   "codemirror_mode": {
    "name": "ipython",
    "version": 2
   },
   "file_extension": ".py",
   "mimetype": "text/x-python",
   "name": "python",
   "nbconvert_exporter": "python",
   "pygments_lexer": "ipython2",
   "version": "2.7.13"
  }
 },
 "nbformat": 4,
 "nbformat_minor": 2
}
